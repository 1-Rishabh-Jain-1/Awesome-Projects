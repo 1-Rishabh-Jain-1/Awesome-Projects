{
 "cells": [
  {
   "cell_type": "code",
   "execution_count": 1,
   "id": "e4e0a910",
   "metadata": {},
   "outputs": [],
   "source": [
    "#Pose estimation"
   ]
  },
  {
   "cell_type": "code",
   "execution_count": 1,
   "id": "8d77b2a7",
   "metadata": {},
   "outputs": [],
   "source": [
    "#importing libraries\n",
    "import cv2\n",
    "import mediapipe as mp\n",
    "import time"
   ]
  },
  {
   "cell_type": "code",
   "execution_count": null,
   "id": "65a1928c",
   "metadata": {},
   "outputs": [],
   "source": [
    "#capturing video\n",
    "cap=cv2.VideoCapture(0)\n",
    "\n",
    "#this will help us detect the pose and draw the reference points\n",
    "mpPose=mp.solutions.pose\n",
    "pose=mpPose.Pose()\n",
    "mpDraw=mp.solutions.drawing_utils\n",
    "\n",
    "#variables required to print frame rate\n",
    "previous_time=0\n",
    "current_time=0\n",
    "\n",
    "#video\n",
    "while True:\n",
    "    success, img=cap.read()\n",
    "    \n",
    "    #converting image to rgb\n",
    "    img_rgb=cv2.cvtColor(img, cv2.COLOR_BGR2RGB)\n",
    "    \n",
    "    results=pose.process(img_rgb)\n",
    "    \n",
    "    if results.pose_landmarks:\n",
    "        mpDraw.draw_landmarks(img, results.pose_landmarks, mpPose.POSE_CONNECTIONS)\n",
    "    \n",
    "    #calculating the frame rate\n",
    "    current_time=time.time()\n",
    "    frame_rate=1/(current_time-previous_time)\n",
    "    previous_time=current_time\n",
    "    \n",
    "    #displaying the results\n",
    "    cv2.putText(img, str(int(frame_rate)), (20, 40), cv2.FONT_HERSHEY_PLAIN, 3, (0, 0, 255), 3)\n",
    "    cv2.imshow(\"camera\", img)\n",
    "    if cv2.waitKey(1) & 0xFF==ord('q'):\n",
    "        cap.release()\n",
    "        cv2.destroyAllWindows()\n",
    "        break"
   ]
  }
 ],
 "metadata": {
  "kernelspec": {
   "display_name": "Python 3.9.7 64-bit",
   "language": "python",
   "name": "python3"
  },
  "language_info": {
   "codemirror_mode": {
    "name": "ipython",
    "version": 3
   },
   "file_extension": ".py",
   "mimetype": "text/x-python",
   "name": "python",
   "nbconvert_exporter": "python",
   "pygments_lexer": "ipython3",
   "version": "3.9.7"
  },
  "vscode": {
   "interpreter": {
    "hash": "509903b03bda286d938189778cc37ccd9cebc339a58d43206ff42ee33a1f6044"
   }
  }
 },
 "nbformat": 4,
 "nbformat_minor": 5
}
